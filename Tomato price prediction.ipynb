{
 "cells": [
  {
   "cell_type": "code",
   "execution_count": 1,
   "metadata": {},
   "outputs": [],
   "source": [
    "import pandas as pd\n",
    "import numpy as np\n",
    "import matplotlib.pyplot as plt\n",
    "import seaborn as sns\n",
    "import warnings\n",
    "warnings.filterwarnings(\"ignore\") \n",
    "from sklearn.preprocessing import LabelEncoder\n",
    "from sklearn import metrics\n",
    "from sklearn.model_selection import train_test_split\n",
    "from sklearn.linear_model import LinearRegression,Lasso,Ridge\n",
    "import statsmodels.api as smt\n",
    "from statsmodels.graphics.tsaplots import plot_acf, plot_pacf"
   ]
  },
  {
   "cell_type": "code",
   "execution_count": 2,
   "metadata": {},
   "outputs": [],
   "source": [
    "df = pd.read_excel(\"Agmarknet_Price_Report.xlsx\")"
   ]
  },
  {
   "cell_type": "code",
   "execution_count": 3,
   "metadata": {},
   "outputs": [
    {
     "data": {
      "text/html": [
       "<div>\n",
       "<style scoped>\n",
       "    .dataframe tbody tr th:only-of-type {\n",
       "        vertical-align: middle;\n",
       "    }\n",
       "\n",
       "    .dataframe tbody tr th {\n",
       "        vertical-align: top;\n",
       "    }\n",
       "\n",
       "    .dataframe thead th {\n",
       "        text-align: right;\n",
       "    }\n",
       "</style>\n",
       "<table border=\"1\" class=\"dataframe\">\n",
       "  <thead>\n",
       "    <tr style=\"text-align: right;\">\n",
       "      <th></th>\n",
       "      <th>Sl no.</th>\n",
       "      <th>District Name</th>\n",
       "      <th>Market Name</th>\n",
       "      <th>Commodity</th>\n",
       "      <th>Variety</th>\n",
       "      <th>Grade</th>\n",
       "      <th>Min Price (Rs./Quintal)</th>\n",
       "      <th>Max Price (Rs./Quintal)</th>\n",
       "      <th>Modal Price (Rs./Quintal)</th>\n",
       "      <th>Price Date</th>\n",
       "    </tr>\n",
       "  </thead>\n",
       "  <tbody>\n",
       "    <tr>\n",
       "      <th>0</th>\n",
       "      <td>1</td>\n",
       "      <td>Hassan</td>\n",
       "      <td>Arakalgud</td>\n",
       "      <td>Tomato</td>\n",
       "      <td>Tomato</td>\n",
       "      <td>FAQ</td>\n",
       "      <td>1600</td>\n",
       "      <td>1600</td>\n",
       "      <td>1600</td>\n",
       "      <td>2023-04-29</td>\n",
       "    </tr>\n",
       "    <tr>\n",
       "      <th>1</th>\n",
       "      <td>2</td>\n",
       "      <td>Hassan</td>\n",
       "      <td>Arakalgud</td>\n",
       "      <td>Tomato</td>\n",
       "      <td>Tomato</td>\n",
       "      <td>FAQ</td>\n",
       "      <td>2500</td>\n",
       "      <td>2500</td>\n",
       "      <td>2500</td>\n",
       "      <td>2023-04-22</td>\n",
       "    </tr>\n",
       "    <tr>\n",
       "      <th>2</th>\n",
       "      <td>3</td>\n",
       "      <td>Hassan</td>\n",
       "      <td>Arakalgud</td>\n",
       "      <td>Tomato</td>\n",
       "      <td>Tomato</td>\n",
       "      <td>FAQ</td>\n",
       "      <td>1600</td>\n",
       "      <td>1600</td>\n",
       "      <td>1600</td>\n",
       "      <td>2022-07-23</td>\n",
       "    </tr>\n",
       "    <tr>\n",
       "      <th>3</th>\n",
       "      <td>4</td>\n",
       "      <td>Hassan</td>\n",
       "      <td>Arakalgud</td>\n",
       "      <td>Tomato</td>\n",
       "      <td>Tomato</td>\n",
       "      <td>FAQ</td>\n",
       "      <td>1500</td>\n",
       "      <td>1500</td>\n",
       "      <td>1500</td>\n",
       "      <td>2022-02-19</td>\n",
       "    </tr>\n",
       "    <tr>\n",
       "      <th>4</th>\n",
       "      <td>5</td>\n",
       "      <td>Hassan</td>\n",
       "      <td>Arakalgud</td>\n",
       "      <td>Tomato</td>\n",
       "      <td>Tomato</td>\n",
       "      <td>FAQ</td>\n",
       "      <td>1200</td>\n",
       "      <td>1200</td>\n",
       "      <td>1200</td>\n",
       "      <td>2022-02-05</td>\n",
       "    </tr>\n",
       "  </tbody>\n",
       "</table>\n",
       "</div>"
      ],
      "text/plain": [
       "   Sl no. District Name Market Name Commodity Variety Grade  \\\n",
       "0       1        Hassan   Arakalgud    Tomato  Tomato   FAQ   \n",
       "1       2        Hassan   Arakalgud    Tomato  Tomato   FAQ   \n",
       "2       3        Hassan   Arakalgud    Tomato  Tomato   FAQ   \n",
       "3       4        Hassan   Arakalgud    Tomato  Tomato   FAQ   \n",
       "4       5        Hassan   Arakalgud    Tomato  Tomato   FAQ   \n",
       "\n",
       "   Min Price (Rs./Quintal)  Max Price (Rs./Quintal)  \\\n",
       "0                     1600                     1600   \n",
       "1                     2500                     2500   \n",
       "2                     1600                     1600   \n",
       "3                     1500                     1500   \n",
       "4                     1200                     1200   \n",
       "\n",
       "   Modal Price (Rs./Quintal) Price Date  \n",
       "0                       1600 2023-04-29  \n",
       "1                       2500 2023-04-22  \n",
       "2                       1600 2022-07-23  \n",
       "3                       1500 2022-02-19  \n",
       "4                       1200 2022-02-05  "
      ]
     },
     "execution_count": 3,
     "metadata": {},
     "output_type": "execute_result"
    }
   ],
   "source": [
    "df.head()"
   ]
  },
  {
   "cell_type": "code",
   "execution_count": 4,
   "metadata": {},
   "outputs": [
    {
     "data": {
      "text/html": [
       "<div>\n",
       "<style scoped>\n",
       "    .dataframe tbody tr th:only-of-type {\n",
       "        vertical-align: middle;\n",
       "    }\n",
       "\n",
       "    .dataframe tbody tr th {\n",
       "        vertical-align: top;\n",
       "    }\n",
       "\n",
       "    .dataframe thead th {\n",
       "        text-align: right;\n",
       "    }\n",
       "</style>\n",
       "<table border=\"1\" class=\"dataframe\">\n",
       "  <thead>\n",
       "    <tr style=\"text-align: right;\">\n",
       "      <th></th>\n",
       "      <th>Sl no.</th>\n",
       "      <th>Min Price (Rs./Quintal)</th>\n",
       "      <th>Max Price (Rs./Quintal)</th>\n",
       "      <th>Modal Price (Rs./Quintal)</th>\n",
       "    </tr>\n",
       "  </thead>\n",
       "  <tbody>\n",
       "    <tr>\n",
       "      <th>count</th>\n",
       "      <td>30062.000000</td>\n",
       "      <td>30062.000000</td>\n",
       "      <td>30062.000000</td>\n",
       "      <td>30062.000000</td>\n",
       "    </tr>\n",
       "    <tr>\n",
       "      <th>mean</th>\n",
       "      <td>15031.500000</td>\n",
       "      <td>1230.838467</td>\n",
       "      <td>2077.796853</td>\n",
       "      <td>1640.669782</td>\n",
       "    </tr>\n",
       "    <tr>\n",
       "      <th>std</th>\n",
       "      <td>8678.296233</td>\n",
       "      <td>1313.208966</td>\n",
       "      <td>1911.667809</td>\n",
       "      <td>1503.835558</td>\n",
       "    </tr>\n",
       "    <tr>\n",
       "      <th>min</th>\n",
       "      <td>1.000000</td>\n",
       "      <td>4.000000</td>\n",
       "      <td>6.000000</td>\n",
       "      <td>5.000000</td>\n",
       "    </tr>\n",
       "    <tr>\n",
       "      <th>25%</th>\n",
       "      <td>7516.250000</td>\n",
       "      <td>400.000000</td>\n",
       "      <td>1000.000000</td>\n",
       "      <td>733.000000</td>\n",
       "    </tr>\n",
       "    <tr>\n",
       "      <th>50%</th>\n",
       "      <td>15031.500000</td>\n",
       "      <td>800.000000</td>\n",
       "      <td>1500.000000</td>\n",
       "      <td>1133.000000</td>\n",
       "    </tr>\n",
       "    <tr>\n",
       "      <th>75%</th>\n",
       "      <td>22546.750000</td>\n",
       "      <td>1500.000000</td>\n",
       "      <td>2500.000000</td>\n",
       "      <td>2000.000000</td>\n",
       "    </tr>\n",
       "    <tr>\n",
       "      <th>max</th>\n",
       "      <td>30062.000000</td>\n",
       "      <td>12500.000000</td>\n",
       "      <td>90000.000000</td>\n",
       "      <td>17500.000000</td>\n",
       "    </tr>\n",
       "  </tbody>\n",
       "</table>\n",
       "</div>"
      ],
      "text/plain": [
       "             Sl no.  Min Price (Rs./Quintal)  Max Price (Rs./Quintal)  \\\n",
       "count  30062.000000             30062.000000             30062.000000   \n",
       "mean   15031.500000              1230.838467              2077.796853   \n",
       "std     8678.296233              1313.208966              1911.667809   \n",
       "min        1.000000                 4.000000                 6.000000   \n",
       "25%     7516.250000               400.000000              1000.000000   \n",
       "50%    15031.500000               800.000000              1500.000000   \n",
       "75%    22546.750000              1500.000000              2500.000000   \n",
       "max    30062.000000             12500.000000             90000.000000   \n",
       "\n",
       "       Modal Price (Rs./Quintal)  \n",
       "count               30062.000000  \n",
       "mean                 1640.669782  \n",
       "std                  1503.835558  \n",
       "min                     5.000000  \n",
       "25%                   733.000000  \n",
       "50%                  1133.000000  \n",
       "75%                  2000.000000  \n",
       "max                 17500.000000  "
      ]
     },
     "execution_count": 4,
     "metadata": {},
     "output_type": "execute_result"
    }
   ],
   "source": [
    "df.describe()"
   ]
  },
  {
   "cell_type": "code",
   "execution_count": 5,
   "metadata": {},
   "outputs": [
    {
     "name": "stdout",
     "output_type": "stream",
     "text": [
      "<class 'pandas.core.frame.DataFrame'>\n",
      "RangeIndex: 30062 entries, 0 to 30061\n",
      "Data columns (total 10 columns):\n",
      " #   Column                     Non-Null Count  Dtype         \n",
      "---  ------                     --------------  -----         \n",
      " 0   Sl no.                     30062 non-null  int64         \n",
      " 1   District Name              30062 non-null  object        \n",
      " 2   Market Name                30062 non-null  object        \n",
      " 3   Commodity                  30062 non-null  object        \n",
      " 4   Variety                    30062 non-null  object        \n",
      " 5   Grade                      30062 non-null  object        \n",
      " 6   Min Price (Rs./Quintal)    30062 non-null  int64         \n",
      " 7   Max Price (Rs./Quintal)    30062 non-null  int64         \n",
      " 8   Modal Price (Rs./Quintal)  30062 non-null  int64         \n",
      " 9   Price Date                 30062 non-null  datetime64[ns]\n",
      "dtypes: datetime64[ns](1), int64(4), object(5)\n",
      "memory usage: 2.3+ MB\n"
     ]
    }
   ],
   "source": [
    "df.info()"
   ]
  },
  {
   "cell_type": "code",
   "execution_count": 6,
   "metadata": {},
   "outputs": [],
   "source": [
    "df = df.drop(\"Sl no.\",axis=1)"
   ]
  },
  {
   "cell_type": "code",
   "execution_count": 7,
   "metadata": {},
   "outputs": [
    {
     "data": {
      "text/html": [
       "<div>\n",
       "<style scoped>\n",
       "    .dataframe tbody tr th:only-of-type {\n",
       "        vertical-align: middle;\n",
       "    }\n",
       "\n",
       "    .dataframe tbody tr th {\n",
       "        vertical-align: top;\n",
       "    }\n",
       "\n",
       "    .dataframe thead th {\n",
       "        text-align: right;\n",
       "    }\n",
       "</style>\n",
       "<table border=\"1\" class=\"dataframe\">\n",
       "  <thead>\n",
       "    <tr style=\"text-align: right;\">\n",
       "      <th></th>\n",
       "      <th>District_Name</th>\n",
       "      <th>Market_Name</th>\n",
       "      <th>Commodity</th>\n",
       "      <th>Variety</th>\n",
       "      <th>Grade</th>\n",
       "      <th>MinPrice_Quintal</th>\n",
       "      <th>MaxPrice_Quintal</th>\n",
       "      <th>ModalPrice_Quintal</th>\n",
       "      <th>Price_Date</th>\n",
       "    </tr>\n",
       "  </thead>\n",
       "  <tbody>\n",
       "    <tr>\n",
       "      <th>0</th>\n",
       "      <td>Hassan</td>\n",
       "      <td>Arakalgud</td>\n",
       "      <td>Tomato</td>\n",
       "      <td>Tomato</td>\n",
       "      <td>FAQ</td>\n",
       "      <td>1600</td>\n",
       "      <td>1600</td>\n",
       "      <td>1600</td>\n",
       "      <td>2023-04-29</td>\n",
       "    </tr>\n",
       "  </tbody>\n",
       "</table>\n",
       "</div>"
      ],
      "text/plain": [
       "  District_Name Market_Name Commodity Variety Grade  MinPrice_Quintal  \\\n",
       "0        Hassan   Arakalgud    Tomato  Tomato   FAQ              1600   \n",
       "\n",
       "   MaxPrice_Quintal  ModalPrice_Quintal Price_Date  \n",
       "0              1600                1600 2023-04-29  "
      ]
     },
     "execution_count": 7,
     "metadata": {},
     "output_type": "execute_result"
    }
   ],
   "source": [
    "df.rename(columns={\"District Name\":\"District_Name\",\"Market Name\":\"Market_Name\",\"Min Price (Rs./Quintal)\":\"MinPrice_Quintal\",\"Max Price (Rs./Quintal)\":\"MaxPrice_Quintal\",\"Modal Price (Rs./Quintal)\":\"ModalPrice_Quintal\",\"Price Date\":\"Price_Date\"},inplace=True)\n",
    "df.head(1)"
   ]
  },
  {
   "cell_type": "code",
   "execution_count": 8,
   "metadata": {},
   "outputs": [
    {
     "data": {
      "text/plain": [
       "0"
      ]
     },
     "execution_count": 8,
     "metadata": {},
     "output_type": "execute_result"
    }
   ],
   "source": [
    "#1. Check for duplicates\n",
    "df.duplicated().sum()"
   ]
  },
  {
   "cell_type": "code",
   "execution_count": 9,
   "metadata": {},
   "outputs": [
    {
     "data": {
      "text/plain": [
       "0"
      ]
     },
     "execution_count": 9,
     "metadata": {},
     "output_type": "execute_result"
    }
   ],
   "source": [
    "#2. Check for missing values\n",
    "df.isna().sum().sum()"
   ]
  },
  {
   "cell_type": "code",
   "execution_count": 10,
   "metadata": {},
   "outputs": [],
   "source": [
    "#3. Check for outliers\n",
    "# sns.boxplot()"
   ]
  },
  {
   "cell_type": "code",
   "execution_count": 11,
   "metadata": {},
   "outputs": [],
   "source": [
    "#4. Categorical encoding\n",
    "label1 = LabelEncoder().fit_transform(df['District_Name'])\n",
    "df.drop(\"District_Name\",axis=1,inplace=True)\n",
    "df['District_Name']=label1"
   ]
  },
  {
   "cell_type": "code",
   "execution_count": 12,
   "metadata": {},
   "outputs": [],
   "source": [
    "label2 = LabelEncoder().fit_transform(df['Market_Name'])\n",
    "df.drop(\"Market_Name\",axis=1,inplace=True)\n",
    "df['Market_Name']=label2"
   ]
  },
  {
   "cell_type": "code",
   "execution_count": 13,
   "metadata": {},
   "outputs": [],
   "source": [
    "label3 = LabelEncoder().fit_transform(df['Variety'])\n",
    "df.drop(\"Variety\",axis=1,inplace=True)\n",
    "df['Variety']=label3"
   ]
  },
  {
   "cell_type": "code",
   "execution_count": 14,
   "metadata": {},
   "outputs": [],
   "source": [
    "label4 = LabelEncoder().fit_transform(df['Grade'])\n",
    "df.drop(\"Grade\",axis=1,inplace=True)\n",
    "df['Grade']=label4"
   ]
  },
  {
   "cell_type": "code",
   "execution_count": 15,
   "metadata": {},
   "outputs": [
    {
     "data": {
      "text/html": [
       "<div>\n",
       "<style scoped>\n",
       "    .dataframe tbody tr th:only-of-type {\n",
       "        vertical-align: middle;\n",
       "    }\n",
       "\n",
       "    .dataframe tbody tr th {\n",
       "        vertical-align: top;\n",
       "    }\n",
       "\n",
       "    .dataframe thead th {\n",
       "        text-align: right;\n",
       "    }\n",
       "</style>\n",
       "<table border=\"1\" class=\"dataframe\">\n",
       "  <thead>\n",
       "    <tr style=\"text-align: right;\">\n",
       "      <th></th>\n",
       "      <th>Commodity</th>\n",
       "      <th>MinPrice_Quintal</th>\n",
       "      <th>MaxPrice_Quintal</th>\n",
       "      <th>ModalPrice_Quintal</th>\n",
       "      <th>Price_Date</th>\n",
       "      <th>District_Name</th>\n",
       "      <th>Market_Name</th>\n",
       "      <th>Variety</th>\n",
       "      <th>Grade</th>\n",
       "    </tr>\n",
       "  </thead>\n",
       "  <tbody>\n",
       "    <tr>\n",
       "      <th>0</th>\n",
       "      <td>Tomato</td>\n",
       "      <td>1600</td>\n",
       "      <td>1600</td>\n",
       "      <td>1600</td>\n",
       "      <td>2023-04-29</td>\n",
       "      <td>9</td>\n",
       "      <td>0</td>\n",
       "      <td>1</td>\n",
       "      <td>0</td>\n",
       "    </tr>\n",
       "    <tr>\n",
       "      <th>1</th>\n",
       "      <td>Tomato</td>\n",
       "      <td>2500</td>\n",
       "      <td>2500</td>\n",
       "      <td>2500</td>\n",
       "      <td>2023-04-22</td>\n",
       "      <td>9</td>\n",
       "      <td>0</td>\n",
       "      <td>1</td>\n",
       "      <td>0</td>\n",
       "    </tr>\n",
       "    <tr>\n",
       "      <th>2</th>\n",
       "      <td>Tomato</td>\n",
       "      <td>1600</td>\n",
       "      <td>1600</td>\n",
       "      <td>1600</td>\n",
       "      <td>2022-07-23</td>\n",
       "      <td>9</td>\n",
       "      <td>0</td>\n",
       "      <td>1</td>\n",
       "      <td>0</td>\n",
       "    </tr>\n",
       "    <tr>\n",
       "      <th>3</th>\n",
       "      <td>Tomato</td>\n",
       "      <td>1500</td>\n",
       "      <td>1500</td>\n",
       "      <td>1500</td>\n",
       "      <td>2022-02-19</td>\n",
       "      <td>9</td>\n",
       "      <td>0</td>\n",
       "      <td>1</td>\n",
       "      <td>0</td>\n",
       "    </tr>\n",
       "    <tr>\n",
       "      <th>4</th>\n",
       "      <td>Tomato</td>\n",
       "      <td>1200</td>\n",
       "      <td>1200</td>\n",
       "      <td>1200</td>\n",
       "      <td>2022-02-05</td>\n",
       "      <td>9</td>\n",
       "      <td>0</td>\n",
       "      <td>1</td>\n",
       "      <td>0</td>\n",
       "    </tr>\n",
       "  </tbody>\n",
       "</table>\n",
       "</div>"
      ],
      "text/plain": [
       "  Commodity  MinPrice_Quintal  MaxPrice_Quintal  ModalPrice_Quintal  \\\n",
       "0    Tomato              1600              1600                1600   \n",
       "1    Tomato              2500              2500                2500   \n",
       "2    Tomato              1600              1600                1600   \n",
       "3    Tomato              1500              1500                1500   \n",
       "4    Tomato              1200              1200                1200   \n",
       "\n",
       "  Price_Date  District_Name  Market_Name  Variety  Grade  \n",
       "0 2023-04-29              9            0        1      0  \n",
       "1 2023-04-22              9            0        1      0  \n",
       "2 2022-07-23              9            0        1      0  \n",
       "3 2022-02-19              9            0        1      0  \n",
       "4 2022-02-05              9            0        1      0  "
      ]
     },
     "execution_count": 15,
     "metadata": {},
     "output_type": "execute_result"
    }
   ],
   "source": [
    "df.head()"
   ]
  },
  {
   "cell_type": "code",
   "execution_count": 16,
   "metadata": {},
   "outputs": [],
   "source": [
    "df = df.drop('Commodity',axis=1)\n",
    "df = df.drop('Price_Date',axis=1)\n",
    "x= df.drop(\"ModalPrice_Quintal\",axis=1)\n",
    "y= df[[\"ModalPrice_Quintal\"]]"
   ]
  },
  {
   "cell_type": "code",
   "execution_count": 17,
   "metadata": {},
   "outputs": [],
   "source": [
    "x_train,x_test,y_train,y_test = train_test_split(x,y,random_state=1,test_size=0.3)"
   ]
  },
  {
   "cell_type": "code",
   "execution_count": 18,
   "metadata": {},
   "outputs": [
    {
     "data": {
      "text/plain": [
       "LinearRegression()"
      ]
     },
     "execution_count": 18,
     "metadata": {},
     "output_type": "execute_result"
    }
   ],
   "source": [
    "LR=LinearRegression()\n",
    "LR.fit(x_train,y_train)"
   ]
  },
  {
   "cell_type": "code",
   "execution_count": 19,
   "metadata": {},
   "outputs": [
    {
     "name": "stdout",
     "output_type": "stream",
     "text": [
      "The coefficient for MinPrice_Quintal is 0.5747503221852995\n",
      "The coefficient for MaxPrice_Quintal is 0.4405856368597708\n",
      "The coefficient for District_Name is -0.549592321072067\n",
      "The coefficient for Market_Name is -1.1225175977306483\n",
      "The coefficient for Variety is -8.26609925648522\n",
      "The coefficient for Grade is 5.884395566591483\n"
     ]
    }
   ],
   "source": [
    "for idx, col_name in enumerate(x_train.columns):\n",
    "    print(\"The coefficient for {} is {}\".format(col_name, LR.coef_[0][idx]))"
   ]
  },
  {
   "cell_type": "code",
   "execution_count": 20,
   "metadata": {},
   "outputs": [
    {
     "data": {
      "text/plain": [
       "0.9733138323659664"
      ]
     },
     "execution_count": 20,
     "metadata": {},
     "output_type": "execute_result"
    }
   ],
   "source": [
    "LR.score(x_train,y_train)"
   ]
  },
  {
   "cell_type": "code",
   "execution_count": 21,
   "metadata": {},
   "outputs": [
    {
     "data": {
      "text/plain": [
       "0.9214365484364764"
      ]
     },
     "execution_count": 21,
     "metadata": {},
     "output_type": "execute_result"
    }
   ],
   "source": [
    "LR.score(x_test,y_test)"
   ]
  },
  {
   "cell_type": "code",
   "execution_count": 22,
   "metadata": {},
   "outputs": [
    {
     "data": {
      "text/html": [
       "<div>\n",
       "<style scoped>\n",
       "    .dataframe tbody tr th:only-of-type {\n",
       "        vertical-align: middle;\n",
       "    }\n",
       "\n",
       "    .dataframe tbody tr th {\n",
       "        vertical-align: top;\n",
       "    }\n",
       "\n",
       "    .dataframe thead th {\n",
       "        text-align: right;\n",
       "    }\n",
       "</style>\n",
       "<table border=\"1\" class=\"dataframe\">\n",
       "  <thead>\n",
       "    <tr style=\"text-align: right;\">\n",
       "      <th></th>\n",
       "      <th>ModalPrice_Quintal</th>\n",
       "    </tr>\n",
       "  </thead>\n",
       "  <tbody>\n",
       "    <tr>\n",
       "      <th>542</th>\n",
       "      <td>310</td>\n",
       "    </tr>\n",
       "    <tr>\n",
       "      <th>9209</th>\n",
       "      <td>1330</td>\n",
       "    </tr>\n",
       "    <tr>\n",
       "      <th>24598</th>\n",
       "      <td>1600</td>\n",
       "    </tr>\n",
       "    <tr>\n",
       "      <th>28496</th>\n",
       "      <td>800</td>\n",
       "    </tr>\n",
       "    <tr>\n",
       "      <th>12222</th>\n",
       "      <td>700</td>\n",
       "    </tr>\n",
       "    <tr>\n",
       "      <th>...</th>\n",
       "      <td>...</td>\n",
       "    </tr>\n",
       "    <tr>\n",
       "      <th>17289</th>\n",
       "      <td>5000</td>\n",
       "    </tr>\n",
       "    <tr>\n",
       "      <th>5192</th>\n",
       "      <td>400</td>\n",
       "    </tr>\n",
       "    <tr>\n",
       "      <th>12172</th>\n",
       "      <td>1000</td>\n",
       "    </tr>\n",
       "    <tr>\n",
       "      <th>235</th>\n",
       "      <td>1000</td>\n",
       "    </tr>\n",
       "    <tr>\n",
       "      <th>29733</th>\n",
       "      <td>3400</td>\n",
       "    </tr>\n",
       "  </tbody>\n",
       "</table>\n",
       "<p>21043 rows × 1 columns</p>\n",
       "</div>"
      ],
      "text/plain": [
       "       ModalPrice_Quintal\n",
       "542                   310\n",
       "9209                 1330\n",
       "24598                1600\n",
       "28496                 800\n",
       "12222                 700\n",
       "...                   ...\n",
       "17289                5000\n",
       "5192                  400\n",
       "12172                1000\n",
       "235                  1000\n",
       "29733                3400\n",
       "\n",
       "[21043 rows x 1 columns]"
      ]
     },
     "execution_count": 22,
     "metadata": {},
     "output_type": "execute_result"
    }
   ],
   "source": [
    "y_train"
   ]
  },
  {
   "cell_type": "code",
   "execution_count": 23,
   "metadata": {},
   "outputs": [],
   "source": [
    "y_pred = LR.predict(x_test)"
   ]
  },
  {
   "cell_type": "code",
   "execution_count": 24,
   "metadata": {},
   "outputs": [
    {
     "data": {
      "text/plain": [
       "0.9214365484364764"
      ]
     },
     "execution_count": 24,
     "metadata": {},
     "output_type": "execute_result"
    }
   ],
   "source": [
    "metrics.r2_score(y_test,y_pred)"
   ]
  },
  {
   "cell_type": "code",
   "execution_count": 25,
   "metadata": {},
   "outputs": [
    {
     "data": {
      "text/plain": [
       "99.68814352838403"
      ]
     },
     "execution_count": 25,
     "metadata": {},
     "output_type": "execute_result"
    }
   ],
   "source": [
    "metrics.mean_absolute_error(y_test,y_pred)"
   ]
  },
  {
   "cell_type": "code",
   "execution_count": 26,
   "metadata": {},
   "outputs": [
    {
     "data": {
      "text/plain": [
       "179821.24979799948"
      ]
     },
     "execution_count": 26,
     "metadata": {},
     "output_type": "execute_result"
    }
   ],
   "source": [
    "metrics.mean_squared_error(y_test,y_pred)"
   ]
  },
  {
   "cell_type": "code",
   "execution_count": 27,
   "metadata": {},
   "outputs": [
    {
     "data": {
      "text/plain": [
       "424.05335725354126"
      ]
     },
     "execution_count": 27,
     "metadata": {},
     "output_type": "execute_result"
    }
   ],
   "source": [
    "np.sqrt(metrics.mean_squared_error(y_test,y_pred))"
   ]
  },
  {
   "cell_type": "code",
   "execution_count": 28,
   "metadata": {},
   "outputs": [
    {
     "data": {
      "text/html": [
       "<div>\n",
       "<style scoped>\n",
       "    .dataframe tbody tr th:only-of-type {\n",
       "        vertical-align: middle;\n",
       "    }\n",
       "\n",
       "    .dataframe tbody tr th {\n",
       "        vertical-align: top;\n",
       "    }\n",
       "\n",
       "    .dataframe thead th {\n",
       "        text-align: right;\n",
       "    }\n",
       "</style>\n",
       "<table border=\"1\" class=\"dataframe\">\n",
       "  <thead>\n",
       "    <tr style=\"text-align: right;\">\n",
       "      <th></th>\n",
       "      <th>ModalPrice_Quintal</th>\n",
       "    </tr>\n",
       "  </thead>\n",
       "  <tbody>\n",
       "    <tr>\n",
       "      <th>12352</th>\n",
       "      <td>650</td>\n",
       "    </tr>\n",
       "    <tr>\n",
       "      <th>17380</th>\n",
       "      <td>1000</td>\n",
       "    </tr>\n",
       "    <tr>\n",
       "      <th>21522</th>\n",
       "      <td>533</td>\n",
       "    </tr>\n",
       "    <tr>\n",
       "      <th>2132</th>\n",
       "      <td>3100</td>\n",
       "    </tr>\n",
       "    <tr>\n",
       "      <th>1906</th>\n",
       "      <td>400</td>\n",
       "    </tr>\n",
       "    <tr>\n",
       "      <th>...</th>\n",
       "      <td>...</td>\n",
       "    </tr>\n",
       "    <tr>\n",
       "      <th>4805</th>\n",
       "      <td>800</td>\n",
       "    </tr>\n",
       "    <tr>\n",
       "      <th>2563</th>\n",
       "      <td>1500</td>\n",
       "    </tr>\n",
       "    <tr>\n",
       "      <th>12631</th>\n",
       "      <td>2000</td>\n",
       "    </tr>\n",
       "    <tr>\n",
       "      <th>1433</th>\n",
       "      <td>700</td>\n",
       "    </tr>\n",
       "    <tr>\n",
       "      <th>10620</th>\n",
       "      <td>600</td>\n",
       "    </tr>\n",
       "  </tbody>\n",
       "</table>\n",
       "<p>9019 rows × 1 columns</p>\n",
       "</div>"
      ],
      "text/plain": [
       "       ModalPrice_Quintal\n",
       "12352                 650\n",
       "17380                1000\n",
       "21522                 533\n",
       "2132                 3100\n",
       "1906                  400\n",
       "...                   ...\n",
       "4805                  800\n",
       "2563                 1500\n",
       "12631                2000\n",
       "1433                  700\n",
       "10620                 600\n",
       "\n",
       "[9019 rows x 1 columns]"
      ]
     },
     "execution_count": 28,
     "metadata": {},
     "output_type": "execute_result"
    }
   ],
   "source": [
    "y_test"
   ]
  },
  {
   "cell_type": "code",
   "execution_count": 29,
   "metadata": {},
   "outputs": [
    {
     "data": {
      "text/html": [
       "<div>\n",
       "<style scoped>\n",
       "    .dataframe tbody tr th:only-of-type {\n",
       "        vertical-align: middle;\n",
       "    }\n",
       "\n",
       "    .dataframe tbody tr th {\n",
       "        vertical-align: top;\n",
       "    }\n",
       "\n",
       "    .dataframe thead th {\n",
       "        text-align: right;\n",
       "    }\n",
       "</style>\n",
       "<table border=\"1\" class=\"dataframe\">\n",
       "  <thead>\n",
       "    <tr style=\"text-align: right;\">\n",
       "      <th></th>\n",
       "      <th>ModalPrice_Quintal</th>\n",
       "    </tr>\n",
       "  </thead>\n",
       "  <tbody>\n",
       "    <tr>\n",
       "      <th>12352</th>\n",
       "      <td>-14.023890</td>\n",
       "    </tr>\n",
       "    <tr>\n",
       "      <th>17380</th>\n",
       "      <td>-56.115138</td>\n",
       "    </tr>\n",
       "    <tr>\n",
       "      <th>21522</th>\n",
       "      <td>48.693276</td>\n",
       "    </tr>\n",
       "    <tr>\n",
       "      <th>2132</th>\n",
       "      <td>75.133484</td>\n",
       "    </tr>\n",
       "    <tr>\n",
       "      <th>1906</th>\n",
       "      <td>-64.377994</td>\n",
       "    </tr>\n",
       "    <tr>\n",
       "      <th>...</th>\n",
       "      <td>...</td>\n",
       "    </tr>\n",
       "    <tr>\n",
       "      <th>4805</th>\n",
       "      <td>1.045380</td>\n",
       "    </tr>\n",
       "    <tr>\n",
       "      <th>2563</th>\n",
       "      <td>130.313113</td>\n",
       "    </tr>\n",
       "    <tr>\n",
       "      <th>12631</th>\n",
       "      <td>408.029212</td>\n",
       "    </tr>\n",
       "    <tr>\n",
       "      <th>1433</th>\n",
       "      <td>45.971283</td>\n",
       "    </tr>\n",
       "    <tr>\n",
       "      <th>10620</th>\n",
       "      <td>-71.811515</td>\n",
       "    </tr>\n",
       "  </tbody>\n",
       "</table>\n",
       "<p>9019 rows × 1 columns</p>\n",
       "</div>"
      ],
      "text/plain": [
       "       ModalPrice_Quintal\n",
       "12352          -14.023890\n",
       "17380          -56.115138\n",
       "21522           48.693276\n",
       "2132            75.133484\n",
       "1906           -64.377994\n",
       "...                   ...\n",
       "4805             1.045380\n",
       "2563           130.313113\n",
       "12631          408.029212\n",
       "1433            45.971283\n",
       "10620          -71.811515\n",
       "\n",
       "[9019 rows x 1 columns]"
      ]
     },
     "execution_count": 29,
     "metadata": {},
     "output_type": "execute_result"
    }
   ],
   "source": [
    "error = y_test - y_pred\n",
    "error"
   ]
  },
  {
   "cell_type": "code",
   "execution_count": 30,
   "metadata": {},
   "outputs": [
    {
     "data": {
      "image/png": "[encoded data removed]",
      "text/plain": [
       "<Figure size 432x288 with 1 Axes>"
      ]
     },
     "metadata": {
      "needs_background": "light"
     },
     "output_type": "display_data"
    }
   ],
   "source": [
    "acf = plot_acf(error)\n",
    "plt.show()"
   ]
  },
  {
   "cell_type": "code",
   "execution_count": 31,
   "metadata": {},
   "outputs": [
    {
     "data": {
      "image/png": "[encoded data removed]",
      "text/plain": [
       "<Figure size 491.75x360 with 1 Axes>"
      ]
     },
     "metadata": {
      "needs_background": "light"
     },
     "output_type": "display_data"
    }
   ],
   "source": [
    "sns.displot(error)\n",
    "plt.xlabel(\"Residual\")\n",
    "plt.show()"
   ]
  },
  {
   "cell_type": "code",
   "execution_count": 32,
   "metadata": {},
   "outputs": [
    {
     "data": {
      "text/html": [
       "<div>\n",
       "<style scoped>\n",
       "    .dataframe tbody tr th:only-of-type {\n",
       "        vertical-align: middle;\n",
       "    }\n",
       "\n",
       "    .dataframe tbody tr th {\n",
       "        vertical-align: top;\n",
       "    }\n",
       "\n",
       "    .dataframe thead th {\n",
       "        text-align: right;\n",
       "    }\n",
       "</style>\n",
       "<table border=\"1\" class=\"dataframe\">\n",
       "  <thead>\n",
       "    <tr style=\"text-align: right;\">\n",
       "      <th></th>\n",
       "      <th>MinPrice_Quintal</th>\n",
       "      <th>MaxPrice_Quintal</th>\n",
       "      <th>District_Name</th>\n",
       "      <th>Market_Name</th>\n",
       "      <th>Variety</th>\n",
       "      <th>Grade</th>\n",
       "      <th>ModalPrice_Quintal</th>\n",
       "    </tr>\n",
       "  </thead>\n",
       "  <tbody>\n",
       "    <tr>\n",
       "      <th>542</th>\n",
       "      <td>220</td>\n",
       "      <td>380</td>\n",
       "      <td>4</td>\n",
       "      <td>2</td>\n",
       "      <td>1</td>\n",
       "      <td>0</td>\n",
       "      <td>310</td>\n",
       "    </tr>\n",
       "    <tr>\n",
       "      <th>9209</th>\n",
       "      <td>530</td>\n",
       "      <td>2000</td>\n",
       "      <td>12</td>\n",
       "      <td>13</td>\n",
       "      <td>1</td>\n",
       "      <td>0</td>\n",
       "      <td>1330</td>\n",
       "    </tr>\n",
       "    <tr>\n",
       "      <th>24598</th>\n",
       "      <td>1000</td>\n",
       "      <td>2000</td>\n",
       "      <td>0</td>\n",
       "      <td>44</td>\n",
       "      <td>1</td>\n",
       "      <td>0</td>\n",
       "      <td>1600</td>\n",
       "    </tr>\n",
       "    <tr>\n",
       "      <th>28496</th>\n",
       "      <td>500</td>\n",
       "      <td>1000</td>\n",
       "      <td>16</td>\n",
       "      <td>49</td>\n",
       "      <td>0</td>\n",
       "      <td>0</td>\n",
       "      <td>800</td>\n",
       "    </tr>\n",
       "    <tr>\n",
       "      <th>12222</th>\n",
       "      <td>500</td>\n",
       "      <td>1000</td>\n",
       "      <td>8</td>\n",
       "      <td>17</td>\n",
       "      <td>1</td>\n",
       "      <td>0</td>\n",
       "      <td>700</td>\n",
       "    </tr>\n",
       "  </tbody>\n",
       "</table>\n",
       "</div>"
      ],
      "text/plain": [
       "       MinPrice_Quintal  MaxPrice_Quintal  District_Name  Market_Name  \\\n",
       "542                 220               380              4            2   \n",
       "9209                530              2000             12           13   \n",
       "24598              1000              2000              0           44   \n",
       "28496               500              1000             16           49   \n",
       "12222               500              1000              8           17   \n",
       "\n",
       "       Variety  Grade  ModalPrice_Quintal  \n",
       "542          1      0                 310  \n",
       "9209         1      0                1330  \n",
       "24598        1      0                1600  \n",
       "28496        0      0                 800  \n",
       "12222        1      0                 700  "
      ]
     },
     "execution_count": 32,
     "metadata": {},
     "output_type": "execute_result"
    }
   ],
   "source": [
    "data_train = pd.concat([x_train,y_train],axis=1)\n",
    "data_test = pd.concat([x_test,y_test],axis=1)\n",
    "data_train.head()"
   ]
  },
  {
   "cell_type": "code",
   "execution_count": 33,
   "metadata": {},
   "outputs": [],
   "source": [
    "expr = \"ModalPrice_Quintal ~ MinPrice_Quintal + MaxPrice_Quintal + District_Name + Market_Name + Variety + Grade\""
   ]
  },
  {
   "cell_type": "code",
   "execution_count": 34,
   "metadata": {},
   "outputs": [
    {
     "data": {
      "text/plain": [
       "Intercept           59.246744\n",
       "MinPrice_Quintal     0.574750\n",
       "MaxPrice_Quintal     0.440586\n",
       "District_Name       -0.549592\n",
       "Market_Name         -1.122518\n",
       "Variety             -8.266099\n",
       "Grade                5.884396\n",
       "dtype: float64"
      ]
     },
     "execution_count": 34,
     "metadata": {},
     "output_type": "execute_result"
    }
   ],
   "source": [
    "import statsmodels.formula.api as smf\n",
    "lm1 = smf.ols(formula=expr, data=data_train).fit()\n",
    "lm1.params"
   ]
  },
  {
   "cell_type": "code",
   "execution_count": 35,
   "metadata": {},
   "outputs": [
    {
     "name": "stdout",
     "output_type": "stream",
     "text": [
      "                            OLS Regression Results                            \n",
      "==============================================================================\n",
      "Dep. Variable:     ModalPrice_Quintal   R-squared:                       0.973\n",
      "Model:                            OLS   Adj. R-squared:                  0.973\n",
      "Method:                 Least Squares   F-statistic:                 1.279e+05\n",
      "Date:                Tue, 05 Mar 2024   Prob (F-statistic):               0.00\n",
      "Time:                        20:36:23   Log-Likelihood:            -1.4562e+05\n",
      "No. Observations:               21043   AIC:                         2.913e+05\n",
      "Df Residuals:                   21036   BIC:                         2.913e+05\n",
      "Df Model:                           6                                         \n",
      "Covariance Type:            nonrobust                                         \n",
      "====================================================================================\n",
      "                       coef    std err          t      P>|t|      [0.025      0.975]\n",
      "------------------------------------------------------------------------------------\n",
      "Intercept           59.2467      7.383      8.024      0.000      44.775      73.719\n",
      "MinPrice_Quintal     0.5748      0.002    272.066      0.000       0.571       0.579\n",
      "MaxPrice_Quintal     0.4406      0.001    298.323      0.000       0.438       0.443\n",
      "District_Name       -0.5496      0.332     -1.656      0.098      -1.200       0.101\n",
      "Market_Name         -1.1225      0.128     -8.771      0.000      -1.373      -0.872\n",
      "Variety             -8.2661      6.519     -1.268      0.205     -21.043       4.511\n",
      "Grade                5.8844     14.836      0.397      0.692     -23.195      34.964\n",
      "==============================================================================\n",
      "Omnibus:                    34059.791   Durbin-Watson:                   1.991\n",
      "Prob(Omnibus):                  0.000   Jarque-Bera (JB):        149721489.044\n",
      "Skew:                          -9.901   Prob(JB):                         0.00\n",
      "Kurtosis:                     415.757   Cond. No.                     2.84e+04\n",
      "==============================================================================\n",
      "\n",
      "Notes:\n",
      "[1] Standard Errors assume that the covariance matrix of the errors is correctly specified.\n",
      "[2] The condition number is large, 2.84e+04. This might indicate that there are\n",
      "strong multicollinearity or other numerical problems.\n"
     ]
    }
   ],
   "source": [
    "print(lm1.summary())"
   ]
  },
  {
   "cell_type": "code",
   "execution_count": 36,
   "metadata": {},
   "outputs": [],
   "source": [
    "# Prediction on Test data\n",
    "y_predlm = lm1.predict(data_test)"
   ]
  },
  {
   "cell_type": "code",
   "execution_count": 37,
   "metadata": {},
   "outputs": [
    {
     "data": {
      "image/png": "[encoded data removed]",
      "text/plain": [
       "<Figure size 432x288 with 1 Axes>"
      ]
     },
     "metadata": {
      "needs_background": "light"
     },
     "output_type": "display_data"
    }
   ],
   "source": [
    "plt.scatter(y_test['ModalPrice_Quintal'], y_predlm)\n",
    "plt.show()"
   ]
  },
  {
   "cell_type": "code",
   "execution_count": 38,
   "metadata": {},
   "outputs": [
    {
     "name": "stdout",
     "output_type": "stream",
     "text": [
      "(59.25) * Intercept + (0.57) * MinPrice_Quintal + (0.44) * MaxPrice_Quintal + (-0.55) * District_Name + (-1.12) * Market_Name + (-8.27) * Variety + (5.88) * Grade + "
     ]
    }
   ],
   "source": [
    "for i,j in np.array(lm1.params.reset_index()):\n",
    "    print('({}) * {} +'.format(round(j,2),i),end=' ')"
   ]
  },
  {
   "cell_type": "markdown",
   "metadata": {},
   "source": [
    "## Time series forecasting"
   ]
  },
  {
   "cell_type": "code",
   "execution_count": 39,
   "metadata": {},
   "outputs": [],
   "source": [
    "from statsmodels.tsa.seasonal import seasonal_decompose"
   ]
  },
  {
   "cell_type": "code",
   "execution_count": 78,
   "metadata": {},
   "outputs": [],
   "source": [
    "dfts = pd.read_excel(\"Agmarknet_Price_Report.xlsx\")"
   ]
  },
  {
   "cell_type": "code",
   "execution_count": 79,
   "metadata": {},
   "outputs": [
    {
     "data": {
      "text/html": [
       "<div>\n",
       "<style scoped>\n",
       "    .dataframe tbody tr th:only-of-type {\n",
       "        vertical-align: middle;\n",
       "    }\n",
       "\n",
       "    .dataframe tbody tr th {\n",
       "        vertical-align: top;\n",
       "    }\n",
       "\n",
       "    .dataframe thead th {\n",
       "        text-align: right;\n",
       "    }\n",
       "</style>\n",
       "<table border=\"1\" class=\"dataframe\">\n",
       "  <thead>\n",
       "    <tr style=\"text-align: right;\">\n",
       "      <th></th>\n",
       "      <th>Sl no.</th>\n",
       "      <th>District Name</th>\n",
       "      <th>Market Name</th>\n",
       "      <th>Commodity</th>\n",
       "      <th>Variety</th>\n",
       "      <th>Grade</th>\n",
       "      <th>Min Price (Rs./Quintal)</th>\n",
       "      <th>Max Price (Rs./Quintal)</th>\n",
       "      <th>Modal Price (Rs./Quintal)</th>\n",
       "      <th>Price Date</th>\n",
       "    </tr>\n",
       "  </thead>\n",
       "  <tbody>\n",
       "    <tr>\n",
       "      <th>0</th>\n",
       "      <td>1</td>\n",
       "      <td>Hassan</td>\n",
       "      <td>Arakalgud</td>\n",
       "      <td>Tomato</td>\n",
       "      <td>Tomato</td>\n",
       "      <td>FAQ</td>\n",
       "      <td>1600</td>\n",
       "      <td>1600</td>\n",
       "      <td>1600</td>\n",
       "      <td>2023-04-29</td>\n",
       "    </tr>\n",
       "    <tr>\n",
       "      <th>1</th>\n",
       "      <td>2</td>\n",
       "      <td>Hassan</td>\n",
       "      <td>Arakalgud</td>\n",
       "      <td>Tomato</td>\n",
       "      <td>Tomato</td>\n",
       "      <td>FAQ</td>\n",
       "      <td>2500</td>\n",
       "      <td>2500</td>\n",
       "      <td>2500</td>\n",
       "      <td>2023-04-22</td>\n",
       "    </tr>\n",
       "    <tr>\n",
       "      <th>2</th>\n",
       "      <td>3</td>\n",
       "      <td>Hassan</td>\n",
       "      <td>Arakalgud</td>\n",
       "      <td>Tomato</td>\n",
       "      <td>Tomato</td>\n",
       "      <td>FAQ</td>\n",
       "      <td>1600</td>\n",
       "      <td>1600</td>\n",
       "      <td>1600</td>\n",
       "      <td>2022-07-23</td>\n",
       "    </tr>\n",
       "    <tr>\n",
       "      <th>3</th>\n",
       "      <td>4</td>\n",
       "      <td>Hassan</td>\n",
       "      <td>Arakalgud</td>\n",
       "      <td>Tomato</td>\n",
       "      <td>Tomato</td>\n",
       "      <td>FAQ</td>\n",
       "      <td>1500</td>\n",
       "      <td>1500</td>\n",
       "      <td>1500</td>\n",
       "      <td>2022-02-19</td>\n",
       "    </tr>\n",
       "    <tr>\n",
       "      <th>4</th>\n",
       "      <td>5</td>\n",
       "      <td>Hassan</td>\n",
       "      <td>Arakalgud</td>\n",
       "      <td>Tomato</td>\n",
       "      <td>Tomato</td>\n",
       "      <td>FAQ</td>\n",
       "      <td>1200</td>\n",
       "      <td>1200</td>\n",
       "      <td>1200</td>\n",
       "      <td>2022-02-05</td>\n",
       "    </tr>\n",
       "  </tbody>\n",
       "</table>\n",
       "</div>"
      ],
      "text/plain": [
       "   Sl no. District Name Market Name Commodity Variety Grade  \\\n",
       "0       1        Hassan   Arakalgud    Tomato  Tomato   FAQ   \n",
       "1       2        Hassan   Arakalgud    Tomato  Tomato   FAQ   \n",
       "2       3        Hassan   Arakalgud    Tomato  Tomato   FAQ   \n",
       "3       4        Hassan   Arakalgud    Tomato  Tomato   FAQ   \n",
       "4       5        Hassan   Arakalgud    Tomato  Tomato   FAQ   \n",
       "\n",
       "   Min Price (Rs./Quintal)  Max Price (Rs./Quintal)  \\\n",
       "0                     1600                     1600   \n",
       "1                     2500                     2500   \n",
       "2                     1600                     1600   \n",
       "3                     1500                     1500   \n",
       "4                     1200                     1200   \n",
       "\n",
       "   Modal Price (Rs./Quintal) Price Date  \n",
       "0                       1600 2023-04-29  \n",
       "1                       2500 2023-04-22  \n",
       "2                       1600 2022-07-23  \n",
       "3                       1500 2022-02-19  \n",
       "4                       1200 2022-02-05  "
      ]
     },
     "execution_count": 79,
     "metadata": {},
     "output_type": "execute_result"
    }
   ],
   "source": [
    "dfts.head()"
   ]
  },
  {
   "cell_type": "code",
   "execution_count": 83,
   "metadata": {},
   "outputs": [
    {
     "data": {
      "text/html": [
       "<div>\n",
       "<style scoped>\n",
       "    .dataframe tbody tr th:only-of-type {\n",
       "        vertical-align: middle;\n",
       "    }\n",
       "\n",
       "    .dataframe tbody tr th {\n",
       "        vertical-align: top;\n",
       "    }\n",
       "\n",
       "    .dataframe thead th {\n",
       "        text-align: right;\n",
       "    }\n",
       "</style>\n",
       "<table border=\"1\" class=\"dataframe\">\n",
       "  <thead>\n",
       "    <tr style=\"text-align: right;\">\n",
       "      <th></th>\n",
       "      <th>District Name</th>\n",
       "      <th>Market Name</th>\n",
       "      <th>Commodity</th>\n",
       "      <th>Variety</th>\n",
       "      <th>Grade</th>\n",
       "      <th>Min Price (Rs./Quintal)</th>\n",
       "      <th>Max Price (Rs./Quintal)</th>\n",
       "      <th>Modal Price (Rs./Quintal)</th>\n",
       "    </tr>\n",
       "    <tr>\n",
       "      <th>Price Date</th>\n",
       "      <th></th>\n",
       "      <th></th>\n",
       "      <th></th>\n",
       "      <th></th>\n",
       "      <th></th>\n",
       "      <th></th>\n",
       "      <th></th>\n",
       "      <th></th>\n",
       "    </tr>\n",
       "  </thead>\n",
       "  <tbody>\n",
       "    <tr>\n",
       "      <th>2023-04-29</th>\n",
       "      <td>Hassan</td>\n",
       "      <td>Arakalgud</td>\n",
       "      <td>Tomato</td>\n",
       "      <td>Tomato</td>\n",
       "      <td>FAQ</td>\n",
       "      <td>1600</td>\n",
       "      <td>1600</td>\n",
       "      <td>1600</td>\n",
       "    </tr>\n",
       "    <tr>\n",
       "      <th>2023-04-22</th>\n",
       "      <td>Hassan</td>\n",
       "      <td>Arakalgud</td>\n",
       "      <td>Tomato</td>\n",
       "      <td>Tomato</td>\n",
       "      <td>FAQ</td>\n",
       "      <td>2500</td>\n",
       "      <td>2500</td>\n",
       "      <td>2500</td>\n",
       "    </tr>\n",
       "    <tr>\n",
       "      <th>2022-07-23</th>\n",
       "      <td>Hassan</td>\n",
       "      <td>Arakalgud</td>\n",
       "      <td>Tomato</td>\n",
       "      <td>Tomato</td>\n",
       "      <td>FAQ</td>\n",
       "      <td>1600</td>\n",
       "      <td>1600</td>\n",
       "      <td>1600</td>\n",
       "    </tr>\n",
       "    <tr>\n",
       "      <th>2022-02-19</th>\n",
       "      <td>Hassan</td>\n",
       "      <td>Arakalgud</td>\n",
       "      <td>Tomato</td>\n",
       "      <td>Tomato</td>\n",
       "      <td>FAQ</td>\n",
       "      <td>1500</td>\n",
       "      <td>1500</td>\n",
       "      <td>1500</td>\n",
       "    </tr>\n",
       "    <tr>\n",
       "      <th>2022-02-05</th>\n",
       "      <td>Hassan</td>\n",
       "      <td>Arakalgud</td>\n",
       "      <td>Tomato</td>\n",
       "      <td>Tomato</td>\n",
       "      <td>FAQ</td>\n",
       "      <td>1200</td>\n",
       "      <td>1200</td>\n",
       "      <td>1200</td>\n",
       "    </tr>\n",
       "  </tbody>\n",
       "</table>\n",
       "</div>"
      ],
      "text/plain": [
       "           District Name Market Name Commodity Variety Grade  \\\n",
       "Price Date                                                     \n",
       "2023-04-29        Hassan   Arakalgud    Tomato  Tomato   FAQ   \n",
       "2023-04-22        Hassan   Arakalgud    Tomato  Tomato   FAQ   \n",
       "2022-07-23        Hassan   Arakalgud    Tomato  Tomato   FAQ   \n",
       "2022-02-19        Hassan   Arakalgud    Tomato  Tomato   FAQ   \n",
       "2022-02-05        Hassan   Arakalgud    Tomato  Tomato   FAQ   \n",
       "\n",
       "            Min Price (Rs./Quintal)  Max Price (Rs./Quintal)  \\\n",
       "Price Date                                                     \n",
       "2023-04-29                     1600                     1600   \n",
       "2023-04-22                     2500                     2500   \n",
       "2022-07-23                     1600                     1600   \n",
       "2022-02-19                     1500                     1500   \n",
       "2022-02-05                     1200                     1200   \n",
       "\n",
       "            Modal Price (Rs./Quintal)  \n",
       "Price Date                             \n",
       "2023-04-29                       1600  \n",
       "2023-04-22                       2500  \n",
       "2022-07-23                       1600  \n",
       "2022-02-19                       1500  \n",
       "2022-02-05                       1200  "
      ]
     },
     "execution_count": 83,
     "metadata": {},
     "output_type": "execute_result"
    }
   ],
   "source": [
    "dfts = pd.read_excel(\"Agmarknet_Price_Report.xlsx\", parse_dates=['Price Date'],index_col='Price Date')\n",
    "dfts = dfts.drop('Sl no.',axis=1)\n",
    "dfts.head()"
   ]
  },
  {
   "cell_type": "code",
   "execution_count": 84,
   "metadata": {},
   "outputs": [
    {
     "data": {
      "text/html": [
       "<div>\n",
       "<style scoped>\n",
       "    .dataframe tbody tr th:only-of-type {\n",
       "        vertical-align: middle;\n",
       "    }\n",
       "\n",
       "    .dataframe tbody tr th {\n",
       "        vertical-align: top;\n",
       "    }\n",
       "\n",
       "    .dataframe thead th {\n",
       "        text-align: right;\n",
       "    }\n",
       "</style>\n",
       "<table border=\"1\" class=\"dataframe\">\n",
       "  <thead>\n",
       "    <tr style=\"text-align: right;\">\n",
       "      <th></th>\n",
       "      <th>District Name</th>\n",
       "      <th>Market Name</th>\n",
       "      <th>Commodity</th>\n",
       "      <th>Variety</th>\n",
       "      <th>Grade</th>\n",
       "      <th>Min Price (Rs./Quintal)</th>\n",
       "      <th>Max Price (Rs./Quintal)</th>\n",
       "      <th>Modal Price (Rs./Quintal)</th>\n",
       "    </tr>\n",
       "    <tr>\n",
       "      <th>Price Date</th>\n",
       "      <th></th>\n",
       "      <th></th>\n",
       "      <th></th>\n",
       "      <th></th>\n",
       "      <th></th>\n",
       "      <th></th>\n",
       "      <th></th>\n",
       "      <th></th>\n",
       "    </tr>\n",
       "  </thead>\n",
       "  <tbody>\n",
       "    <tr>\n",
       "      <th>2020-02-12</th>\n",
       "      <td>Udupi</td>\n",
       "      <td>Udupi</td>\n",
       "      <td>Tomato</td>\n",
       "      <td>Tomato</td>\n",
       "      <td>FAQ</td>\n",
       "      <td>1000</td>\n",
       "      <td>1200</td>\n",
       "      <td>1100</td>\n",
       "    </tr>\n",
       "    <tr>\n",
       "      <th>2020-02-05</th>\n",
       "      <td>Udupi</td>\n",
       "      <td>Udupi</td>\n",
       "      <td>Tomato</td>\n",
       "      <td>Tomato</td>\n",
       "      <td>FAQ</td>\n",
       "      <td>1200</td>\n",
       "      <td>1600</td>\n",
       "      <td>1400</td>\n",
       "    </tr>\n",
       "  </tbody>\n",
       "</table>\n",
       "</div>"
      ],
      "text/plain": [
       "           District Name Market Name Commodity Variety Grade  \\\n",
       "Price Date                                                     \n",
       "2020-02-12         Udupi       Udupi    Tomato  Tomato   FAQ   \n",
       "2020-02-05         Udupi       Udupi    Tomato  Tomato   FAQ   \n",
       "\n",
       "            Min Price (Rs./Quintal)  Max Price (Rs./Quintal)  \\\n",
       "Price Date                                                     \n",
       "2020-02-12                     1000                     1200   \n",
       "2020-02-05                     1200                     1600   \n",
       "\n",
       "            Modal Price (Rs./Quintal)  \n",
       "Price Date                             \n",
       "2020-02-12                       1100  \n",
       "2020-02-05                       1400  "
      ]
     },
     "execution_count": 84,
     "metadata": {},
     "output_type": "execute_result"
    }
   ],
   "source": [
    "dfts.tail(2)"
   ]
  },
  {
   "cell_type": "code",
   "execution_count": 93,
   "metadata": {},
   "outputs": [
    {
     "data": {
      "image/png": "[encoded data removed]",
      "text/plain": [
       "<Figure size 1080x720 with 1 Axes>"
      ]
     },
     "metadata": {
      "needs_background": "light"
     },
     "output_type": "display_data"
    }
   ],
   "source": [
    "from pylab import rcParams\n",
    "rcParams['figure.figsize'] = 15,10\n",
    "dfts.plot()\n",
    "plt.show()"
   ]
  },
  {
   "cell_type": "code",
   "execution_count": null,
   "metadata": {},
   "outputs": [],
   "source": []
  }
 ],
 "metadata": {
  "kernelspec": {
   "display_name": "Python 3",
   "language": "python",
   "name": "python3"
  },
  "language_info": {
   "codemirror_mode": {
    "name": "ipython",
    "version": 3
   },
   "file_extension": ".py",
   "mimetype": "text/x-python",
   "name": "python",
   "nbconvert_exporter": "python",
   "pygments_lexer": "ipython3",
   "version": "3.8.5"
  }
 },
 "nbformat": 4,
 "nbformat_minor": 4
}
